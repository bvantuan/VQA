{
 "cells": [
  {
   "cell_type": "code",
   "execution_count": 1,
   "id": "9df55869",
   "metadata": {},
   "outputs": [],
   "source": [
    "import json\n",
    "from collections import defaultdict\n",
    "from operator import itemgetter\n",
    "import numpy as np\n",
    "import joblib\n",
    "import pandas as pd\n",
    "import tensorflow as tf\n",
    "import re\n",
    "import os\n",
    "import tqdm\n",
    "from tensorflow.keras.preprocessing import text, sequence\n",
    "from tensorflow.keras import utils\n",
    "import matplotlib.pyplot as plt\n",
    "import seaborn as sns\n",
    "from sklearn import preprocessing\n",
    "from sklearn.model_selection import StratifiedShuffleSplit\n",
    "from prettytable import PrettyTable"
   ]
  },
  {
   "cell_type": "code",
   "execution_count": 2,
   "id": "e484aeed",
   "metadata": {},
   "outputs": [],
   "source": [
    "from tensorflow.keras.applications import VGG19\n",
    "from tensorflow.keras.layers import Input\n",
    "from tensorflow.keras.preprocessing import image\n",
    "from tensorflow.keras.applications.vgg19 import preprocess_input"
   ]
  },
  {
   "cell_type": "code",
   "execution_count": 3,
   "id": "bf424b3c",
   "metadata": {},
   "outputs": [],
   "source": [
    "# folder of data\n",
    "DATA_FOLDER = '../content'\n",
    "# folder of processed data\n",
    "PROCESSED_DATA_FOLDER = '../content/processed_data'\n",
    "# path image format\n",
    "IMAGE_FORMAT = '../content/%s/COCO_%s_%012d.jpg'\n",
    "\n",
    "# top most frequent answers\n",
    "MAX_ANSWERS = 1000 \n",
    "# batch size\n",
    "BATCH_SIZE = 300\n",
    "# buffer size\n",
    "BUFFER_SIZE = 5000"
   ]
  },
  {
   "cell_type": "code",
   "execution_count": 4,
   "id": "ed644873",
   "metadata": {},
   "outputs": [],
   "source": [
    "\"\"\"\n",
    "    Annotation Format\n",
    "    \n",
    "    annotation{\n",
    "    \"question_id\" : int,\n",
    "    \"image_id\" : int,\n",
    "    \"question_type\" : str,\n",
    "    \"answer_type\" : str,\n",
    "    \"answers\" : [answer],\n",
    "    \"multiple_choice_answer\" : str\n",
    "    }\n",
    "    \n",
    "    answer{\n",
    "    \"answer_id\" : int,\n",
    "    \"answer\" : str,\n",
    "    \"answer_confidence\": str\n",
    "    }\n",
    "\"\"\"\n",
    "# training annotations\n",
    "tTrainAnnotations = json.load(open(f'{DATA_FOLDER}/v2_mscoco_train2014_annotations.json', 'r'))\n",
    "# validation annotations\n",
    "tValAnnotations = json.load(open(f'{DATA_FOLDER}/v2_mscoco_val2014_annotations.json', 'r'))\n",
    "\n",
    "\"\"\"\n",
    "    Input Questions Format\n",
    "    \n",
    "    question{\n",
    "    \"question_id\" : int,\n",
    "    \"image_id\" : int,\n",
    "    \"question\" : str\n",
    "}\n",
    "\n",
    "\"\"\"\n",
    "# training questions\n",
    "tTrainQuestions = json.load(open(f'{DATA_FOLDER}/v2_OpenEnded_mscoco_train2014_questions.json', 'r'))\n",
    "# validation questions\n",
    "tValQuestions = json.load(open(f'{DATA_FOLDER}/v2_OpenEnded_mscoco_val2014_questions.json', 'r'))\n",
    "# test questions\n",
    "tTestQuestions = json.load(open(f'{DATA_FOLDER}/v2_OpenEnded_mscoco_test2015_questions.json', 'r'))"
   ]
  },
  {
   "cell_type": "code",
   "execution_count": 5,
   "id": "1dd9295e",
   "metadata": {},
   "outputs": [
    {
     "data": {
      "text/plain": [
       "[{'question_type': 'what is this',\n",
       "  'multiple_choice_answer': 'net',\n",
       "  'answers': [{'answer': 'net', 'answer_confidence': 'maybe', 'answer_id': 1},\n",
       "   {'answer': 'net', 'answer_confidence': 'yes', 'answer_id': 2},\n",
       "   {'answer': 'net', 'answer_confidence': 'yes', 'answer_id': 3},\n",
       "   {'answer': 'netting', 'answer_confidence': 'yes', 'answer_id': 4},\n",
       "   {'answer': 'net', 'answer_confidence': 'yes', 'answer_id': 5},\n",
       "   {'answer': 'net', 'answer_confidence': 'yes', 'answer_id': 6},\n",
       "   {'answer': 'mesh', 'answer_confidence': 'maybe', 'answer_id': 7},\n",
       "   {'answer': 'net', 'answer_confidence': 'yes', 'answer_id': 8},\n",
       "   {'answer': 'net', 'answer_confidence': 'yes', 'answer_id': 9},\n",
       "   {'answer': 'net', 'answer_confidence': 'yes', 'answer_id': 10}],\n",
       "  'image_id': 458752,\n",
       "  'answer_type': 'other',\n",
       "  'question_id': 458752000},\n",
       " {'question_type': 'what',\n",
       "  'multiple_choice_answer': 'pitcher',\n",
       "  'answers': [{'answer': 'pitcher',\n",
       "    'answer_confidence': 'yes',\n",
       "    'answer_id': 1},\n",
       "   {'answer': 'catcher', 'answer_confidence': 'no', 'answer_id': 2},\n",
       "   {'answer': 'pitcher', 'answer_confidence': 'yes', 'answer_id': 3},\n",
       "   {'answer': 'pitcher', 'answer_confidence': 'yes', 'answer_id': 4},\n",
       "   {'answer': 'pitcher', 'answer_confidence': 'yes', 'answer_id': 5},\n",
       "   {'answer': 'pitcher', 'answer_confidence': 'yes', 'answer_id': 6},\n",
       "   {'answer': 'pitcher', 'answer_confidence': 'yes', 'answer_id': 7},\n",
       "   {'answer': 'pitcher', 'answer_confidence': 'yes', 'answer_id': 8},\n",
       "   {'answer': 'pitcher', 'answer_confidence': 'yes', 'answer_id': 9},\n",
       "   {'answer': 'pitcher', 'answer_confidence': 'yes', 'answer_id': 10}],\n",
       "  'image_id': 458752,\n",
       "  'answer_type': 'other',\n",
       "  'question_id': 458752001}]"
      ]
     },
     "execution_count": 5,
     "metadata": {},
     "output_type": "execute_result"
    }
   ],
   "source": [
    "# Display the 2 first annotations\n",
    "tTrainAnnotations['annotations'][:2]"
   ]
  },
  {
   "cell_type": "code",
   "execution_count": 6,
   "id": "b41f236f",
   "metadata": {},
   "outputs": [],
   "source": [
    "\"\"\"\n",
    "    Function name: GetAllAnswer\n",
    "    \n",
    "    Objective: Join a list of answers by \";\" to a single string\n",
    "    \n",
    "    Summary algorithmic description: Return a list of answers\n",
    "    \n",
    "    Input parameters: clAnswers: list of dictionaries of answers\n",
    "    \n",
    "    Return : list of answers of a question\n",
    "    \n",
    "    Date : 09/11/2021\n",
    "    \n",
    "    Coding: INSA CVL - Van Tuan BUI  \n",
    "\"\"\"\n",
    "def GetAllAnswer(clAnswers):\n",
    "    return ';'.join([cdAnswer['answer'] for cdAnswer in clAnswers])"
   ]
  },
  {
   "cell_type": "code",
   "execution_count": 7,
   "id": "92c0187d",
   "metadata": {},
   "outputs": [],
   "source": [
    "\"\"\"\n",
    "    Function name: ProcessQuestionAnnotation\n",
    "    \n",
    "    Objective: Creates a JSON file whose elements are (img_path, question, ans, answers)\n",
    "    \n",
    "    Summary algorithmic description: Loop over all annotations to read all elements\n",
    "                                     Add every element to the list\n",
    "                                     Save the list to a JSON file\n",
    "    \n",
    "    Input parameters: sDataFolder: \"train2014\" or \"val2014\"\n",
    "    \n",
    "    Return : None\n",
    "    \n",
    "    Date : 09/11/2021\n",
    "    \n",
    "    Coding: INSA CVL - Van Tuan BUI  \n",
    "\"\"\"\n",
    "def ProcessQuestionAnnotation(sDataFolder):\n",
    "    # Read input annotation data\n",
    "    tAnnotations = json.load(open(f'{DATA_FOLDER}/v2_mscoco_{sDataFolder}_annotations.json', 'r'))\n",
    "    # Read input question data\n",
    "    tQuestions = json.load(open(f'{DATA_FOLDER}/v2_OpenEnded_mscoco_{sDataFolder}_questions.json', 'r'))\n",
    "    # list of dictionaries whose keys are (img_path, question, ans, answers)\n",
    "    clData = []\n",
    "\n",
    "    # Loop over all annotations\n",
    "    for iC in tqdm.tqdm(range(len(tAnnotations['annotations']))):\n",
    "        # path image\n",
    "        sImagePath = IMAGE_FORMAT%(sDataFolder, sDataFolder, tAnnotations['annotations'][iC]['image_id'])\n",
    "        # question\n",
    "        sQuestion = tQuestions['questions'][iC]['question']\n",
    "        # answer\n",
    "        sAns = tAnnotations['annotations'][iC]['multiple_choice_answer']\n",
    "        # list of answers\n",
    "        clAnswers = GetAllAnswer(tAnnotations['annotations'][iC]['answers'])\n",
    "        # Add a element to the dictionary\n",
    "        clData.append({'img_path': sImagePath, 'question': sQuestion, 'ans': sAns, 'answers': clAnswers})\n",
    "    \n",
    "    # save to disk\n",
    "    json.dump(clData, open(f'{DATA_FOLDER}/vqa_raw_{sDataFolder}.json', 'w'))"
   ]
  },
  {
   "cell_type": "code",
   "execution_count": 8,
   "id": "05086e35",
   "metadata": {},
   "outputs": [
    {
     "name": "stderr",
     "output_type": "stream",
     "text": [
      "100%|██████████| 443757/443757 [00:01<00:00, 372952.85it/s]\n",
      "100%|██████████| 214354/214354 [00:00<00:00, 377728.13it/s]\n"
     ]
    }
   ],
   "source": [
    "# Creates a JSON file whose elements are (img_path, question, ans, answers) for train data\n",
    "ProcessQuestionAnnotation(\"train2014\")\n",
    "# Creates a JSON file whose elements are (img_path, question, ans, answers) for val data\n",
    "ProcessQuestionAnnotation(\"val2014\")"
   ]
  },
  {
   "cell_type": "code",
   "execution_count": 9,
   "id": "0ca9c6bd",
   "metadata": {},
   "outputs": [],
   "source": [
    "# Read training data\n",
    "tTrainData = json.load(open(f'{DATA_FOLDER}/vqa_raw_train2014.json', 'r'))\n",
    "# Read validation data\n",
    "tValData = json.load(open(f'{DATA_FOLDER}/vqa_raw_val2014.json', 'r'))"
   ]
  },
  {
   "cell_type": "code",
   "execution_count": 10,
   "id": "cd3cfe0b",
   "metadata": {},
   "outputs": [],
   "source": [
    "# training and validation data \n",
    "tTrainValData = tTrainData + tValData"
   ]
  },
  {
   "cell_type": "code",
   "execution_count": 11,
   "id": "6f60de6b",
   "metadata": {},
   "outputs": [
    {
     "data": {
      "text/plain": [
       "[{'img_path': '../content/train2014/COCO_train2014_000000458752.jpg',\n",
       "  'question': 'What is this photo taken looking through?',\n",
       "  'ans': 'net',\n",
       "  'answers': 'net;net;net;netting;net;net;mesh;net;net;net'},\n",
       " {'img_path': '../content/train2014/COCO_train2014_000000458752.jpg',\n",
       "  'question': 'What position is this man playing?',\n",
       "  'ans': 'pitcher',\n",
       "  'answers': 'pitcher;catcher;pitcher;pitcher;pitcher;pitcher;pitcher;pitcher;pitcher;pitcher'},\n",
       " {'img_path': '../content/train2014/COCO_train2014_000000458752.jpg',\n",
       "  'question': 'What color is the players shirt?',\n",
       "  'ans': 'orange',\n",
       "  'answers': 'orange;orange;orange;orange;orange;orange;orange;orange;orange;orange'},\n",
       " {'img_path': '../content/train2014/COCO_train2014_000000458752.jpg',\n",
       "  'question': 'Is this man a professional baseball player?',\n",
       "  'ans': 'yes',\n",
       "  'answers': 'yes;yes;yes;yes;yes;no;yes;yes;yes;yes'},\n",
       " {'img_path': '../content/train2014/COCO_train2014_000000262146.jpg',\n",
       "  'question': 'What color is the snow?',\n",
       "  'ans': 'white',\n",
       "  'answers': 'white;white;white;white;white;white;white;white;white;white'}]"
      ]
     },
     "execution_count": 11,
     "metadata": {},
     "output_type": "execute_result"
    }
   ],
   "source": [
    "# Display the 5 first lines\n",
    "tTrainValData[:5]"
   ]
  },
  {
   "cell_type": "code",
   "execution_count": 12,
   "id": "7cc974eb",
   "metadata": {},
   "outputs": [
    {
     "name": "stdout",
     "output_type": "stream",
     "text": [
      "Length of train dataset:  443757\n",
      "Length of validation dataset:  214354\n",
      "Length of train + val dataset:  658111\n"
     ]
    }
   ],
   "source": [
    "print(\"Length of train dataset: \", len(tTrainData))\n",
    "print(\"Length of validation dataset: \", len(tValData))\n",
    "print(\"Length of train + val dataset: \", len(tTrainValData))"
   ]
  },
  {
   "cell_type": "markdown",
   "id": "3f0bd6f2",
   "metadata": {},
   "source": [
    "# Reduce dataset to top 1000 answers"
   ]
  },
  {
   "cell_type": "code",
   "execution_count": 13,
   "id": "ab13c7c9",
   "metadata": {},
   "outputs": [],
   "source": [
    "# dictionary with key is a answer and value is number of this answer in the dataset\n",
    "cdAnswerFreq = defaultdict(int)\n",
    "# Loop over all answers in the trainning + validation data\n",
    "for sAnswer in list(map(itemgetter('ans'), tTrainValData)):\n",
    "    # number of this answer (sAnswer) inscrease\n",
    "    cdAnswerFreq[sAnswer] += 1\n",
    "\n",
    "# list of top 1000 most frequents answers as a tuple (answer, frequency)   \n",
    "clSortedFreq = sorted(cdAnswerFreq.items(), key=itemgetter(1), reverse=True)[0: MAX_ANSWERS]\n",
    "# Produce tuples of top 1000 most frequents answers and top 1000 most frequencies\n",
    "ctTopAnswer, ctTopFreq = zip(*clSortedFreq)"
   ]
  },
  {
   "cell_type": "code",
   "execution_count": 14,
   "id": "2df91921",
   "metadata": {},
   "outputs": [
    {
     "name": "stdout",
     "output_type": "stream",
     "text": [
      "There are total  29332  different types of answers.\n"
     ]
    }
   ],
   "source": [
    "# Display number of different types of answers\n",
    "print('There are total ', len(cdAnswerFreq), ' different types of answers.')"
   ]
  },
  {
   "cell_type": "code",
   "execution_count": 15,
   "id": "2da34e2d",
   "metadata": {},
   "outputs": [
    {
     "name": "stdout",
     "output_type": "stream",
     "text": [
      "+-------------+--------------+-------------+\n",
      "| Answer Type | Answer Count | Coverage(%) |\n",
      "+-------------+--------------+-------------+\n",
      "|     yes     |    125706    |    21.87    |\n",
      "|      no     |    122598    |    21.32    |\n",
      "|      1      |    18633     |     3.24    |\n",
      "|      2      |    17960     |     3.12    |\n",
      "|    white    |    13227     |     2.3     |\n",
      "|      3      |     9609     |     1.67    |\n",
      "|     blue    |     8188     |     1.42    |\n",
      "|     red     |     7684     |     1.34    |\n",
      "|    black    |     7578     |     1.32    |\n",
      "|      0      |     7323     |     1.27    |\n",
      "+-------------+--------------+-------------+\n"
     ]
    }
   ],
   "source": [
    "# answer frequency table\n",
    "oAnswerFrequencyTable = PrettyTable([\"Answer Type\", \"Answer Count\", \"Coverage(%)\"])\n",
    "\n",
    "for iC in range(10):\n",
    "    # Row of table\n",
    "    clRow = []\n",
    "    # Answer Type\n",
    "    clRow.append(ctTopAnswer[iC])\n",
    "    # Answer Count\n",
    "    clRow.append(ctTopFreq[iC])\n",
    "    # Coverage of this answer\n",
    "    clRow.append(np.round((ctTopFreq[iC]/sum(ctTopFreq))*100, 2))\n",
    "    # Add this row\n",
    "    oAnswerFrequencyTable.add_row(clRow)\n",
    "\n",
    "# Print answer frequency table\n",
    "print(oAnswerFrequencyTable)"
   ]
  },
  {
   "cell_type": "code",
   "execution_count": 16,
   "id": "91706f50",
   "metadata": {},
   "outputs": [],
   "source": [
    "\"\"\"\n",
    "    Function name: SelectTopAnswersData\n",
    "    \n",
    "    Objective: Reduces the dataset to contain only the datapoints whose answer occurence is in top most frequents \n",
    "    \n",
    "    Summary algorithmic description: Find the top most frequents answers\n",
    "                                     Get all the datapoints whose answer occurence is in top most frequents \n",
    "    \n",
    "    Input parameters: clQuestion: list of questions\n",
    "                      clMostFreqAnswer : list of most frequent answer of a question\n",
    "                      clAnswers : list of all possible answers of a question\n",
    "                      clPathImage : list of path images\n",
    "                      iNbTopAnswers : number of top answers \n",
    "    \n",
    "    Return : tuple of reduced dataset and the top k answers\n",
    "    \n",
    "    Date : 09/11/2021\n",
    "    \n",
    "    Coding: INSA CVL - Van Tuan BUI  \n",
    "\"\"\"\n",
    "def SelectTopAnswersData(clQuestion, clMostFreqAnswer, clAnswers, clPathImage, iNbTopAnswers):\n",
    "    # dictionary with key is a answer and value is number of this answer in the dataset\n",
    "    cdAnswerFreq= defaultdict(int)\n",
    "    \n",
    "    # Loop over all the most frequent answers of a image in the dataset\n",
    "    for sAnswer in clMostFreqAnswer:\n",
    "        # number of this answer (sAnswer) inscrease\n",
    "        cdAnswerFreq[sAnswer] += 1\n",
    "\n",
    "    # list of top most frequents answers as a tuple (answer, frequency) \n",
    "    cdSortedAnswerFreq = sorted(cdAnswerFreq.items(), key=itemgetter(1), reverse=True)[0: iNbTopAnswers]\n",
    "    # Produce tuples of top most frequents answers and top most frequencies\n",
    "    ctTopAnswer, ctTopFreqAnswer = zip(*cdSortedAnswerFreq)\n",
    "\n",
    "    # list of questions whose answer is in the top most frequent answers\n",
    "    clNewQuestion = []\n",
    "    # list of top most frequents answers\n",
    "    clNewMostFreqAnswer = []\n",
    "    # list of all possible answers of a question whost the most frequent answer is in the top most frequent answers\n",
    "    clNewAnswers = []\n",
    "    # list of images whose answer is in the top most frequent answers\n",
    "    clNewPathImage = []\n",
    "\n",
    "    # Loop over all elements\n",
    "    for sQuestion, sMostFreqAnswer, clAnswer, sPathImage in zip(clQuestion, clMostFreqAnswer, clAnswers, clPathImage):\n",
    "        # if the most frequent answer of a image is in the top most frequents answers\n",
    "        if sMostFreqAnswer in ctTopAnswer:\n",
    "            # Add the question to the list\n",
    "            clNewQuestion.append(sQuestion)\n",
    "            # Add the most frequent answer of a image to the list\n",
    "            clNewMostFreqAnswer.append(sMostFreqAnswer)\n",
    "            # Add all possible answers of a question to the list\n",
    "            clNewAnswers.append(clAnswer)\n",
    "            # Add the path image to the list\n",
    "            clNewPathImage.append(sPathImage)\n",
    "\n",
    "    # Amount of data reduction \n",
    "    print('Data size reduced by', np.round(((len(clQuestion) - len(clNewQuestion)) / len(clQuestion)) * 100, 2), '%')\n",
    "    # Return tuple of reduced dataset and the top k answers\n",
    "    return(clNewQuestion, clNewMostFreqAnswer, clNewAnswers, clNewPathImage, ctTopAnswer)"
   ]
  },
  {
   "cell_type": "code",
   "execution_count": 18,
   "id": "8b62fbe2",
   "metadata": {},
   "outputs": [
    {
     "name": "stdout",
     "output_type": "stream",
     "text": [
      "Data size reduced by 12.64 %\n"
     ]
    }
   ],
   "source": [
    "# Reduce the train + val dataset to contain only the datapoints whose answer occurence is in top most frequents\n",
    "clQuestionTrainVal, clAnswerTrainVal, clAnswersTrainVal, clPathImageTrainVal, ctTopAnswer = \\\n",
    "SelectTopAnswersData(list(map(itemgetter('question'), tTrainValData)), \n",
    "                    list(map(itemgetter('ans'), tTrainValData)), \n",
    "                    list(map(itemgetter('answers'), tTrainValData)), \n",
    "                    list(map(itemgetter('img_path'), tTrainValData)), \n",
    "                    MAX_ANSWERS)"
   ]
  },
  {
   "cell_type": "code",
   "execution_count": 19,
   "id": "5d3ce51e",
   "metadata": {},
   "outputs": [],
   "source": [
    "# save reduced training + validation data to disk\n",
    "with open(f'{PROCESSED_DATA_FOLDER}/vqa_raw_trainVal2014_top1000.json', 'wb') as f:\n",
    "    joblib.dump((clQuestionTrainVal, clAnswerTrainVal, clAnswersTrainVal, clPathImageTrainVal), f)"
   ]
  },
  {
   "cell_type": "code",
   "execution_count": 20,
   "id": "3e5ec4a8",
   "metadata": {},
   "outputs": [],
   "source": [
    "# load reduced training + validation data from disk\n",
    "with open(f'{PROCESSED_DATA_FOLDER}/vqa_raw_trainVal2014_top1000.json', 'rb') as f:\n",
    "    clQuestionTrainVal, clAnswerTrainVal, clAnswersTrainVal, clPathImageTrainVal = joblib.load(f)"
   ]
  },
  {
   "cell_type": "markdown",
   "id": "bc64c6b3",
   "metadata": {},
   "source": [
    "# Image features"
   ]
  },
  {
   "cell_type": "code",
   "execution_count": 21,
   "id": "5664ee7b",
   "metadata": {},
   "outputs": [],
   "source": [
    "\"\"\"\n",
    "    Function name: ImageFeatureExtractor\n",
    "    \n",
    "    Objective: Extract (49, 512)-dimensional CNN features by fine-tuning VGG19 and save them locally \n",
    "    \n",
    "    Summary algorithmic description: Load pre-trained model VGG19, don't add final layer\n",
    "                                     Pass the pprecessed images through the network and use the outputs as our actual features\n",
    "                                     Save image features to image id folder\n",
    "    \n",
    "    Input parameters: sImageFolder : image folder name\n",
    "                      sPathFeature: path to save the features\n",
    "                      clImageFilename : list of image filenames\n",
    "                      iBatchSize : batch size\n",
    "    \n",
    "    Return : None\n",
    "    \n",
    "    Date : 09/11/2021\n",
    "    \n",
    "    Coding: INSA CVL - Van Tuan BUI  \n",
    "\"\"\"\n",
    "def ImageFeatureExtractor(sImageFolder, sPathFeature, clImageFilename, iBatchSize):\n",
    "    # Load pre-trained model graph, don't add final layer\n",
    "    model = VGG19(weights=\"imagenet\", include_top=False, input_tensor=Input(shape=(224,224,3)))\n",
    "\n",
    "    # add a progress bar\n",
    "    progbar = utils.Progbar(int(np.ceil(len(clImageFilename) / float(iBatchSize))))\n",
    "\n",
    "    # loop over the images in batches\n",
    "    for (iCounter, iBSize) in enumerate(range(0, len(clImageFilename), iBatchSize)):\n",
    "        # extract batch of images and prepare them to pass it through the VGG \n",
    "        # network for feature extraction\n",
    "\n",
    "        # Update the progress bar.\n",
    "        progbar.update(iCounter+1)\n",
    "\n",
    "        # range of batch\n",
    "        itBatchRange = range(iBSize, min(iBSize + iBatchSize, len(clImageFilename)))\n",
    "        # batch of image filenames\n",
    "        clBatchImageFilename = clImageFilename[itBatchRange[0]: itBatchRange[-1]+1]\n",
    "\n",
    "        # list of processed images\n",
    "        clBatchImage = []\n",
    "        # list of image ids \n",
    "        clBatchId = []\n",
    "        # loop over the images in the current batch\n",
    "        for sImageFilename in clBatchImageFilename:\n",
    "\n",
    "            # load the input image, while ensuring the image is resized to 224x224 pixels\n",
    "            img = image.load_img(f'{DATA_FOLDER}/{sImageFolder}/' + sImageFilename, target_size=(224, 224))\n",
    "            # Convert a PIL Image instance to a Numpy array.\n",
    "            caImg = image.img_to_array(img)\n",
    "\n",
    "            # expand the dimensions to include batch dim\n",
    "            caImg = np.expand_dims(caImg, axis=0)\n",
    "            # The image are converted from RGB to BGR, then each color channel is zero-centered \n",
    "            # with respect to the ImageNet dataset, without scaling.\n",
    "            caImg = preprocess_input(caImg)\n",
    "\n",
    "            # add the image to the batch\n",
    "            clBatchImage.append(caImg)\n",
    "            # Add the image id of the batch to the list of ids\n",
    "            clBatchId.append(sImageFilename.split('.')[0][-6:])\n",
    "\n",
    "        # Stack image arrays in sequence vertically (BATCH_SIZE, 224, 224, 3)\n",
    "        clBatchImage = np.vstack(clBatchImage) \n",
    "\n",
    "        # Pass the images through the network and use the outputs as our actual features (BATCH_SIZE, 7, 7, 512)\n",
    "        tsFeatures = model.predict(clBatchImage) \n",
    "        # Reshapes the features (BATCH_SIZE, 49, 512)\n",
    "        tsFeatures = tf.reshape(tsFeatures, (tsFeatures.shape[0], -1, tsFeatures.shape[-1])) \n",
    "\n",
    "        # Loop over the batch to save them locally\n",
    "        for sId, tsFeature in zip(clBatchId, tsFeatures):\n",
    "            # Save image features to image id folder \n",
    "            np.save(os.path.join(sPathFeature, sId), tsFeature)"
   ]
  },
  {
   "cell_type": "code",
   "execution_count": 28,
   "id": "f6a278a2",
   "metadata": {},
   "outputs": [],
   "source": [
    "# clImageFilenameTrain = os.listdir(f'{DATA_FOLDER}/train2014')"
   ]
  },
  {
   "cell_type": "code",
   "execution_count": 29,
   "id": "2a6abe4e",
   "metadata": {},
   "outputs": [],
   "source": [
    "# ImageFeatureExtractor('train2014', f'{DATA_FOLDER}/features', clImageFilenameTrain, BATCH_SIZE)"
   ]
  },
  {
   "cell_type": "code",
   "execution_count": 38,
   "id": "b5254f57",
   "metadata": {},
   "outputs": [
    {
     "name": "stdout",
     "output_type": "stream",
     "text": [
      "136/136 [==============================] - 6501s 48s/step\n"
     ]
    }
   ],
   "source": [
    "# # list of all image filenames\n",
    "# clImageFilenameVal = os.listdir(f'{DATA_FOLDER}/val2014')\n",
    "# # Extract (49, 512)-dimensional CNN features by fine-tuning VGG19 and save them locally \n",
    "# ImageFeatureExtractor('val2014', f'{DATA_FOLDER}/features', clImageFilenameVal, BATCH_SIZE)"
   ]
  },
  {
   "cell_type": "markdown",
   "id": "d91962bd",
   "metadata": {},
   "source": [
    "# Text features"
   ]
  },
  {
   "cell_type": "code",
   "execution_count": 22,
   "id": "9815b215",
   "metadata": {},
   "outputs": [],
   "source": [
    "# contraction mappings\n",
    "CONTRACTIONS = {\"aint\": \"ain't\", \"arent\": \"aren't\", \"cant\": \"can't\", \n",
    "                \"couldve\": \"could've\", \"couldnt\": \"couldn't\", \"couldn'tve\": \"couldn't've\", \"couldnt've\": \"couldn't've\", \n",
    "                \"didnt\": \"didn't\", \"doesnt\": \"doesn't\", \"dont\": \"don't\", \n",
    "                \"hadnt\": \"hadn't\", \"hadnt've\": \"hadn't've\", \"hadn'tve\": \"hadn't've\", \"hasnt\": \"hasn't\", \"havent\": \"haven't\", \n",
    "                \"hed\": \"he'd\", \"hed've\": \"he'd've\", \"he'dve\": \"he'd've\", \"hes\": \"he's\", \n",
    "                \"howd\": \"how'd\", \"howll\": \"how'll\", \"hows\": \"how's\", \n",
    "                \"Id've\": \"I'd've\", \"I'dve\": \"I'd've\", \"Im\": \"I'm\", \"Ive\": \"I've\", \n",
    "                \"isnt\": \"isn't\", \"itd\": \"it'd\", \"itd've\": \"it'd've\", \"it'dve\": \"it'd've\", \"itll\": \"it'll\", \n",
    "                \"let's\": \"let's\", \n",
    "                \"maam\": \"ma'am\", \n",
    "                \"mightnt\": \"mightn't\", \"mightnt've\": \"mightn't've\", \"mightn'tve\": \"mightn't've\", \"mightve\": \"might've\", \n",
    "                \"mustnt\": \"mustn't\", \"mustve\": \"must've\", \n",
    "                \"neednt\": \"needn't\", \"notve\": \"not've\", \n",
    "                \"oclock\": \"o'clock\", \n",
    "                \"oughtnt\": \"oughtn't\", \n",
    "                \"ow's'at\": \"'ow's'at\", \"'ows'at\": \"'ow's'at\", \"'ow'sat\": \"'ow's'at\", \n",
    "                \"shant\": \"shan't\", \"shed've\": \"she'd've\", \"she'dve\": \"she'd've\", \"she's\": \"she's\", \n",
    "                \"shouldve\": \"should've\", \"shouldnt\": \"shouldn't\", \"shouldnt've\": \"shouldn't've\", \"shouldn'tve\": \"shouldn't've\", \n",
    "                \"somebody'd\": \"somebodyd\", \"somebodyd've\": \"somebody'd've\", \"somebody'dve\": \"somebody'd've\", \n",
    "                \"somebodyll\": \"somebody'll\", \"somebodys\": \"somebody's\", \"someoned\": \"someone'd\", \"someoned've\": \"someone'd've\", \n",
    "                \"someone'dve\": \"someone'd've\", \"someonell\": \"someone'll\", \"someones\": \"someone's\", \"somethingd\": \"something'd\", \n",
    "                \"somethingd've\": \"something'd've\", \"something'dve\": \"something'd've\", \"somethingll\": \"something'll\", \n",
    "                \"thats\": \"that's\", \n",
    "                \"thered\": \"there'd\", \"thered've\": \"there'd've\", \"there'dve\": \"there'd've\", \"therere\": \"there're\", \n",
    "                \"theres\": \"there's\", \n",
    "                \"theyd\": \"they'd\", \"theyd've\": \"they'd've\", \"they'dve\": \"they'd've\", \"theyll\": \"they'll\", \n",
    "                \"theyre\": \"they're\", \"theyve\": \"they've\", \n",
    "                \"twas\": \"'twas\", \"wasnt\": \"wasn't\", \n",
    "                \"wed've\": \"we'd've\", \"we'dve\": \"we'd've\", \n",
    "                \"weve\": \"we've\", \"werent\": \"weren't\", \n",
    "                \"whatll\": \"what'll\", \"whatre\": \"what're\", \"whats\": \"what's\", \"whatve\": \"what've\", \n",
    "                \"whens\": \"when's\", \n",
    "                \"whered\": \"where'd\", \"where's\": \"where is\", \"whereve\": \"where've\", \n",
    "                \"whod\": \"who'd\", \"whod've\": \"who'd've\", \"who'dve\": \"who'd've\", \"wholl\": \"who'll\", \"whos\": \"who's\", \n",
    "                \"whove\": \"who've\", \n",
    "                \"whyll\": \"why'll\", \"whyre\": \"why're\", \"whys\": \"why's\", \n",
    "                \"wont\": \"won't\", \n",
    "                \"wouldve\": \"would've\", \"wouldnt\": \"wouldn't\", \"wouldnt've\": \"wouldn't've\", \"wouldn'tve\": \"wouldn't've\", \n",
    "                \"yall\": \"y'all\", \"yall'll\": \"y'all'll\", \"y'allll\": \"y'all'll\", \"yall'd've\": \"y'all'd've\", \n",
    "                \"y'alld've\": \"y'all'd've\", \"y'all'dve\": \"y'all'd've\", \n",
    "                \"youd\": \"you'd\", \"youd've\": \"you'd've\", \"you'dve\": \"you'd've\", \n",
    "                \"youll\": \"you'll\", \"youre\": \"you're\", \"youve\": \"you've\"}"
   ]
  },
  {
   "cell_type": "code",
   "execution_count": 23,
   "id": "89ec171b",
   "metadata": {},
   "outputs": [],
   "source": [
    "# list of punctuations to remove\n",
    "PUNCTUATIONS = [';', r\"/\", '[', ']', '\"', '{', '}',\n",
    "                '(', ')', '=', '+', '\\\\', '_', '-',\n",
    "                '*', ':', '^', '%', '$', '#', '&',\n",
    "                '>', '<', '@', '`', ',', '?', '!']"
   ]
  },
  {
   "cell_type": "code",
   "execution_count": 24,
   "id": "0426c58d",
   "metadata": {},
   "outputs": [],
   "source": [
    "\"\"\"\n",
    "    Function name: ProcessSentence\n",
    "    \n",
    "    Objective: Clean a given raw sentence\n",
    "    \n",
    "    Summary algorithmic description: Remove redundant white spaces, punctuations\n",
    "    \n",
    "    Input parameters: sSentence: sentence to process\n",
    "    \n",
    "    Return : the cleaned version of the sentence\n",
    "    \n",
    "    Date : 09/11/2021\n",
    "    \n",
    "    Coding: INSA CVL - Van Tuan BUI  \n",
    "\"\"\"\n",
    "def ProcessSentence(sSentence):\n",
    "    # Remove the character \".\", except from floating numbers\n",
    "    oPeriodStrip  = re.compile(\"(?!<=\\d)(\\.)(?!\\d)\")\n",
    "    # Remove any \",\" between digits, eg: 5,6\n",
    "    oCommaStrip   = re.compile(\"(\\d)(\\,)(\\d)\")\n",
    "\n",
    "    # Replace new line with a white space\n",
    "    sInText = sSentence.replace('\\n', ' ')\n",
    "    # Replace multiple white space with single white space\n",
    "    sInText = sInText.replace('\\t', ' ')\n",
    "    # Remove leading and trailing whitespaces\n",
    "    sInText = sInText.strip()\n",
    "    # The result of process\n",
    "    sOutText = sInText\n",
    "    # Loop over all punctuations\n",
    "    for p in PUNCTUATIONS:\n",
    "        # If p + ' ' ou ' ' + p ou ',' between digits in the sentence\n",
    "        if (p + ' ' in sInText or ' ' + p in sInText) or (re.search(oCommaStrip, sInText) != None):\n",
    "            # All occurrences of p replaced by ''\n",
    "            sOutText = sOutText.replace(p, '')\n",
    "        # If not\n",
    "        else:\n",
    "            # Replace p by a white space \n",
    "            sOutText = sOutText.replace(p, ' ')\n",
    "    # Replace the character \".\" by the ''.\n",
    "    sOutText = oPeriodStrip.sub(\"\", sOutText)\n",
    "    # Convert the sentence to lowercase, then to a list of words\n",
    "    sOutText = sOutText.lower().split()\n",
    "    # Loop over the words\n",
    "    for iWordId, sWord in enumerate(sOutText):\n",
    "        # If the word is a contraction\n",
    "        if sWord in CONTRACTIONS:\n",
    "            # Convert it to the right format of the contraction\n",
    "            sOutText[iWordId] = CONTRACTIONS[sWord]\n",
    "    # Concatenate of all the words to a sentence\n",
    "    sOutText = ' '.join(sOutText)\n",
    "    # Return the cleaned version of the sentence\n",
    "    return sOutText"
   ]
  },
  {
   "cell_type": "code",
   "execution_count": 25,
   "id": "766b1bab",
   "metadata": {},
   "outputs": [],
   "source": [
    "# Clean all the questions in the training + validation data\n",
    "psQuestionTrainValProcessed = pd.Series(clQuestionTrainVal).apply(ProcessSentence)"
   ]
  },
  {
   "cell_type": "code",
   "execution_count": 26,
   "id": "cb42dd87",
   "metadata": {},
   "outputs": [],
   "source": [
    "# list of questions in test dataset\n",
    "clQuestionTest = list(map(itemgetter('question'), tTestQuestions['questions']))\n",
    "# Clean all the questions in the test data\n",
    "psQuestionTestProcessed = pd.Series(clQuestionTest).apply(ProcessSentence)"
   ]
  },
  {
   "cell_type": "code",
   "execution_count": 27,
   "id": "5cdd8ca2",
   "metadata": {},
   "outputs": [],
   "source": [
    "# all processed questions\n",
    "psQuestionTrainValTestProcessed = pd.concat([psQuestionTrainValProcessed, psQuestionTestProcessed])"
   ]
  },
  {
   "cell_type": "code",
   "execution_count": 28,
   "id": "b4a029f2",
   "metadata": {},
   "outputs": [
    {
     "data": {
      "text/plain": [
       "0          what is this photo taken looking through\n",
       "1                 what position is this man playing\n",
       "2                   what color is the players shirt\n",
       "3        is this man a professional baseball player\n",
       "4                            what color is the snow\n",
       "5                          what is the person doing\n",
       "6                what color is the persons headwear\n",
       "7                      what is in the person's hand\n",
       "8                                is the dog waiting\n",
       "9    is the dog looking at a tennis ball or frisbee\n",
       "dtype: object"
      ]
     },
     "execution_count": 28,
     "metadata": {},
     "output_type": "execute_result"
    }
   ],
   "source": [
    "# Display the 10 first processed questions\n",
    "psQuestionTrainValTestProcessed[:10]"
   ]
  },
  {
   "cell_type": "markdown",
   "id": "50b770e2",
   "metadata": {},
   "source": [
    "## Tokenization"
   ]
  },
  {
   "cell_type": "code",
   "execution_count": 29,
   "id": "b22c3f46",
   "metadata": {},
   "outputs": [],
   "source": [
    "# Text tokenization class\n",
    "oQuestionTok = text.Tokenizer(filters='')\n",
    "# Update internal vocabulary based on a list of questions.\n",
    "oQuestionTok.fit_on_texts(psQuestionTrainValTestProcessed)"
   ]
  },
  {
   "cell_type": "code",
   "execution_count": 30,
   "id": "c36201f4",
   "metadata": {},
   "outputs": [],
   "source": [
    "# save question tokenizer to disk\n",
    "with open(f'{DATA_FOLDER}/question_tokenizer.pkl', 'wb') as f:\n",
    "    joblib.dump(oQuestionTok, f)"
   ]
  },
  {
   "cell_type": "code",
   "execution_count": 31,
   "id": "2f82153f",
   "metadata": {},
   "outputs": [],
   "source": [
    "# load question tokenizer from disk\n",
    "with open(f'{DATA_FOLDER}/question_tokenizer.pkl', 'rb') as f:\n",
    "    oQuestionTok = joblib.load(f)"
   ]
  },
  {
   "cell_type": "code",
   "execution_count": 32,
   "id": "75930370",
   "metadata": {},
   "outputs": [],
   "source": [
    "# Transform each trainning + validation question to a sequence of integers.\n",
    "clQuestionTrainValTokenized = oQuestionTok.texts_to_sequences(psQuestionTrainValProcessed)\n",
    "\n",
    "# Transform each test question to a sequence of integers.\n",
    "clQuestionTestTokenized = oQuestionTok.texts_to_sequences(psQuestionTestProcessed)"
   ]
  },
  {
   "cell_type": "code",
   "execution_count": 33,
   "id": "c3c2f9ce",
   "metadata": {},
   "outputs": [
    {
     "data": {
      "text/plain": [
       "[[3, 2, 5, 26, 74, 94, 444],\n",
       " [3, 611, 2, 5, 14, 58],\n",
       " [3, 12, 2, 1, 322, 53],\n",
       " [2, 5, 14, 7, 368, 361, 222],\n",
       " [3, 12, 2, 1, 195],\n",
       " [3, 2, 1, 25, 31],\n",
       " [3, 12, 2, 1, 1102, 6228],\n",
       " [3, 2, 6, 1, 279, 96],\n",
       " [2, 1, 46, 384],\n",
       " [2, 1, 46, 94, 42, 7, 209, 134, 27, 275]]"
      ]
     },
     "execution_count": 33,
     "metadata": {},
     "output_type": "execute_result"
    }
   ],
   "source": [
    "# Display the 10 first question tokenizations\n",
    "clQuestionTrainValTokenized[:10]"
   ]
  },
  {
   "cell_type": "code",
   "execution_count": 34,
   "id": "20aa571c",
   "metadata": {},
   "outputs": [
    {
     "name": "stderr",
     "output_type": "stream",
     "text": [
      "C:\\Users\\vbui\\anaconda3\\envs\\VQA\\lib\\site-packages\\seaborn\\distributions.py:2551: FutureWarning: `distplot` is a deprecated function and will be removed in a future version. Please adapt your code to use either `displot` (a figure-level function with similar flexibility) or `histplot` (an axes-level function for histograms).\n",
      "  warnings.warn(msg, FutureWarning)\n"
     ]
    },
    {
     "data": {
      "image/png": "[encoded data removed]",
      "text/plain": [
       "<Figure size 700x500 with 1 Axes>"
      ]
     },
     "metadata": {},
     "output_type": "display_data"
    }
   ],
   "source": [
    "# list of lengths of question token\n",
    "clQuestionTokenLength = [len(clToken) for clToken in clQuestionTrainValTokenized + clQuestionTestTokenized]\n",
    "# Create a new figure\n",
    "plt.figure(figsize=(7,5))\n",
    "# Show a default plot with a kernel density estimate and histogram with bin size determined automatically\n",
    "sns.distplot(clQuestionTokenLength, color='red')\n",
    "# Set a title for the figure\n",
    "plt.title('Distribution of Question length')\n",
    "# Set the label for the x-axis\n",
    "plt.xlabel('Length of Question')\n",
    "# Set the label for the y-axis\n",
    "plt.ylabel('Question count')\n",
    "# Set the x-axis limits\n",
    "plt.xlim(0, 30)\n",
    "# Display the figure\n",
    "plt.show()"
   ]
  },
  {
   "cell_type": "code",
   "execution_count": 35,
   "id": "f2cf98fd",
   "metadata": {},
   "outputs": [
    {
     "name": "stdout",
     "output_type": "stream",
     "text": [
      "0 percentile value is 2.0\n",
      "10 percentile value is 4.0\n",
      "20 percentile value is 5.0\n",
      "30 percentile value is 5.0\n",
      "40 percentile value is 5.0\n",
      "50 percentile value is 6.0\n",
      "60 percentile value is 6.0\n",
      "70 percentile value is 7.0\n",
      "80 percentile value is 7.0\n",
      "90 percentile value is 8.0\n",
      "100 percentile value is 22.0\n"
     ]
    }
   ],
   "source": [
    "for iC in range(0, 11):\n",
    "    # Compute the q-th percentile of the token length\n",
    "    print(10 * iC,'percentile value is', np.percentile(clQuestionTokenLength, 10 * iC))"
   ]
  },
  {
   "cell_type": "code",
   "execution_count": 36,
   "id": "c133187f",
   "metadata": {},
   "outputs": [
    {
     "name": "stdout",
     "output_type": "stream",
     "text": [
      "90 percentile value is 8.0\n",
      "91 percentile value is 9.0\n",
      "92 percentile value is 9.0\n",
      "93 percentile value is 9.0\n",
      "94 percentile value is 9.0\n",
      "95 percentile value is 9.0\n",
      "96 percentile value is 10.0\n",
      "97 percentile value is 10.0\n",
      "98 percentile value is 11.0\n",
      "99 percentile value is 12.0\n",
      "100 percentile value is 22.0\n"
     ]
    }
   ],
   "source": [
    "for iC in range(0,11):\n",
    "    # Compute the q-th percentile of the token length\n",
    "    print(90 + iC,'percentile value is', np.percentile(clQuestionTokenLength, 90 + iC))"
   ]
  },
  {
   "cell_type": "code",
   "execution_count": 37,
   "id": "0d67cc94",
   "metadata": {},
   "outputs": [],
   "source": [
    "# maximum question length\n",
    "MAX_QUESTION_LENGTH = 22"
   ]
  },
  {
   "cell_type": "code",
   "execution_count": 38,
   "id": "83cdb09c",
   "metadata": {},
   "outputs": [],
   "source": [
    "# Pad training + validation question tokenizations to the same length\n",
    "caQuestionTrainValTokenized = sequence.pad_sequences(clQuestionTrainValTokenized, maxlen=MAX_QUESTION_LENGTH, padding='post')\n",
    "\n",
    "# Pad test question tokenizations to the same length\n",
    "caQuestionTestTokenized = sequence.pad_sequences(clQuestionTestTokenized, maxlen=MAX_QUESTION_LENGTH, padding='post')"
   ]
  },
  {
   "cell_type": "code",
   "execution_count": 39,
   "id": "1cf894de",
   "metadata": {},
   "outputs": [
    {
     "data": {
      "text/plain": [
       "array([[   3,    2,    5,   26,   74,   94,  444,    0,    0,    0,    0,\n",
       "           0,    0,    0,    0,    0,    0,    0,    0,    0,    0,    0],\n",
       "       [   3,  611,    2,    5,   14,   58,    0,    0,    0,    0,    0,\n",
       "           0,    0,    0,    0,    0,    0,    0,    0,    0,    0,    0],\n",
       "       [   3,   12,    2,    1,  322,   53,    0,    0,    0,    0,    0,\n",
       "           0,    0,    0,    0,    0,    0,    0,    0,    0,    0,    0],\n",
       "       [   2,    5,   14,    7,  368,  361,  222,    0,    0,    0,    0,\n",
       "           0,    0,    0,    0,    0,    0,    0,    0,    0,    0,    0],\n",
       "       [   3,   12,    2,    1,  195,    0,    0,    0,    0,    0,    0,\n",
       "           0,    0,    0,    0,    0,    0,    0,    0,    0,    0,    0],\n",
       "       [   3,    2,    1,   25,   31,    0,    0,    0,    0,    0,    0,\n",
       "           0,    0,    0,    0,    0,    0,    0,    0,    0,    0,    0],\n",
       "       [   3,   12,    2,    1, 1102, 6228,    0,    0,    0,    0,    0,\n",
       "           0,    0,    0,    0,    0,    0,    0,    0,    0,    0,    0],\n",
       "       [   3,    2,    6,    1,  279,   96,    0,    0,    0,    0,    0,\n",
       "           0,    0,    0,    0,    0,    0,    0,    0,    0,    0,    0],\n",
       "       [   2,    1,   46,  384,    0,    0,    0,    0,    0,    0,    0,\n",
       "           0,    0,    0,    0,    0,    0,    0,    0,    0,    0,    0],\n",
       "       [   2,    1,   46,   94,   42,    7,  209,  134,   27,  275,    0,\n",
       "           0,    0,    0,    0,    0,    0,    0,    0,    0,    0,    0]])"
      ]
     },
     "execution_count": 39,
     "metadata": {},
     "output_type": "execute_result"
    }
   ],
   "source": [
    "# Display the first 10 padding question tokenizations\n",
    "caQuestionTrainValTokenized[:10]"
   ]
  },
  {
   "cell_type": "code",
   "execution_count": 40,
   "id": "d3ecc10e",
   "metadata": {},
   "outputs": [],
   "source": [
    "# save training + validation question tokenizations to disk\n",
    "with open(f'{DATA_FOLDER}/tokenised_question_paddingPost_train_val.pkl', mode='wb') as f:\n",
    "    joblib.dump(caQuestionTrainValTokenized, f)\n",
    "    \n",
    "# save test question tokenizations to disk\n",
    "with open(f'{DATA_FOLDER}/tokenised_question_paddingPost_test.pkl', mode='wb') as f:\n",
    "    joblib.dump(caQuestionTestTokenized, f)"
   ]
  },
  {
   "cell_type": "code",
   "execution_count": 41,
   "id": "436e732e",
   "metadata": {},
   "outputs": [],
   "source": [
    "# load training + validation question tokenizations from disk\n",
    "with open(f'{DATA_FOLDER}/tokenised_question_paddingPost_train_val.pkl', mode='rb') as f:\n",
    "    caQuestionTrainValTokenized = joblib.load(f)\n",
    "\n",
    "# load test question tokenizations from disk\n",
    "with open(f'{DATA_FOLDER}/tokenised_question_paddingPost_test.pkl', mode='rb') as f:\n",
    "    caQuestionTestTokenized = joblib.load(f)"
   ]
  },
  {
   "cell_type": "markdown",
   "id": "3dcb6ee9",
   "metadata": {},
   "source": [
    "## Answers"
   ]
  },
  {
   "cell_type": "code",
   "execution_count": 42,
   "id": "e29930ce",
   "metadata": {},
   "outputs": [
    {
     "data": {
      "text/plain": [
       "LabelEncoder()"
      ]
     },
     "execution_count": 42,
     "metadata": {},
     "output_type": "execute_result"
    }
   ],
   "source": [
    "# Encode target answers with value between 0 and n_classes-1\n",
    "oAnswerEncoder = preprocessing.LabelEncoder()\n",
    "# Fit answer encoder\n",
    "oAnswerEncoder.fit(clAnswerTrainVal)"
   ]
  },
  {
   "cell_type": "code",
   "execution_count": 43,
   "id": "f2456b5e",
   "metadata": {},
   "outputs": [
    {
     "data": {
      "text/plain": [
       "1000"
      ]
     },
     "execution_count": 43,
     "metadata": {},
     "output_type": "execute_result"
    }
   ],
   "source": [
    "# Number of target answers\n",
    "len(oAnswerEncoder.classes_)"
   ]
  },
  {
   "cell_type": "code",
   "execution_count": 44,
   "id": "c4665d2d",
   "metadata": {},
   "outputs": [],
   "source": [
    "# save answer encoder to disk\n",
    "with open(f'{DATA_FOLDER}/AnswerEncoderTrainVal.pkl', 'wb') as f:\n",
    "    joblib.dump(oAnswerEncoder, f)"
   ]
  },
  {
   "cell_type": "code",
   "execution_count": 45,
   "id": "6335c15a",
   "metadata": {},
   "outputs": [],
   "source": [
    "# load answer encoder from disk\n",
    "with open(f'{DATA_FOLDER}/AnswerEncoderTrainVal.pkl', 'rb') as f:\n",
    "    oAnswerEncoder = joblib.load(f)"
   ]
  },
  {
   "cell_type": "code",
   "execution_count": null,
   "id": "bf87bd33",
   "metadata": {},
   "outputs": [],
   "source": []
  }
 ],
 "metadata": {
  "kernelspec": {
   "display_name": "Python 3",
   "language": "python",
   "name": "python3"
  },
  "language_info": {
   "codemirror_mode": {
    "name": "ipython",
    "version": 3
   },
   "file_extension": ".py",
   "mimetype": "text/x-python",
   "name": "python",
   "nbconvert_exporter": "python",
   "pygments_lexer": "ipython3",
   "version": "3.7.11"
  }
 },
 "nbformat": 4,
 "nbformat_minor": 5
}
